{
  "cells": [
    {
      "cell_type": "markdown",
      "metadata": {
        "id": "czmb2CAfwZkB"
      },
      "source": [
        "### <font color='#00d2d3'> Importer les packages"
      ]
    },
    {
      "cell_type": "code",
      "execution_count": 1,
      "metadata": {
        "colab": {
          "base_uri": "https://localhost:8080/"
        },
        "id": "LU_5yINqMjZ0",
        "outputId": "1256e6b6-8af6-4b29-c8d3-1068de128f50"
      },
      "outputs": [
        {
          "name": "stderr",
          "output_type": "stream",
          "text": [
            "[nltk_data] Downloading package stopwords to\n",
            "[nltk_data]     C:\\Users\\morcodou.seck\\AppData\\Roaming\\nltk_data...\n",
            "[nltk_data]   Package stopwords is already up-to-date!\n",
            "[nltk_data] Downloading package wordnet to\n",
            "[nltk_data]     C:\\Users\\morcodou.seck\\AppData\\Roaming\\nltk_data...\n",
            "[nltk_data]   Package wordnet is already up-to-date!\n"
          ]
        }
      ],
      "source": [
        "# Importer les packages\n",
        "import numpy as np\n",
        "import pandas as pd\n",
        "import matplotlib.pyplot as plt\n",
        "import re\n",
        "import nltk\n",
        "nltk.download('stopwords') # Télécharger le package stopwords\n",
        "nltk.download('wordnet')\n",
        "from nltk.corpus import stopwords # Importer le package stopwords"
      ]
    },
    {
      "cell_type": "markdown",
      "metadata": {
        "id": "KlHMJw7NQw5k"
      },
      "source": [
        "### <font color='#00d2d3'> Importer et lire les données"
      ]
    },
    {
      "cell_type": "code",
      "execution_count": 2,
      "metadata": {
        "colab": {
          "base_uri": "https://localhost:8080/",
          "height": 206
        },
        "id": "QYwI5fuQMojZ",
        "outputId": "61212b43-505d-43e5-ee29-c57aaae1d417"
      },
      "outputs": [
        {
          "data": {
            "text/html": [
              "<div>\n",
              "<style scoped>\n",
              "    .dataframe tbody tr th:only-of-type {\n",
              "        vertical-align: middle;\n",
              "    }\n",
              "\n",
              "    .dataframe tbody tr th {\n",
              "        vertical-align: top;\n",
              "    }\n",
              "\n",
              "    .dataframe thead th {\n",
              "        text-align: right;\n",
              "    }\n",
              "</style>\n",
              "<table border=\"1\" class=\"dataframe\">\n",
              "  <thead>\n",
              "    <tr style=\"text-align: right;\">\n",
              "      <th></th>\n",
              "      <th>label</th>\n",
              "      <th>tweet</th>\n",
              "    </tr>\n",
              "  </thead>\n",
              "  <tbody>\n",
              "    <tr>\n",
              "      <th>0</th>\n",
              "      <td>1</td>\n",
              "      <td>@user homegrown rightie white americans are 10...</td>\n",
              "    </tr>\n",
              "    <tr>\n",
              "      <th>1</th>\n",
              "      <td>1</td>\n",
              "      <td>@user @user  is this a new one? either way, #m...</td>\n",
              "    </tr>\n",
              "    <tr>\n",
              "      <th>2</th>\n",
              "      <td>0</td>\n",
              "      <td>i am thankful for pillows. #thankful #positive...</td>\n",
              "    </tr>\n",
              "    <tr>\n",
              "      <th>3</th>\n",
              "      <td>0</td>\n",
              "      <td>it's unfounate today that aids is under contro...</td>\n",
              "    </tr>\n",
              "    <tr>\n",
              "      <th>4</th>\n",
              "      <td>0</td>\n",
              "      <td>i am super. #i_am #positive #affirmation</td>\n",
              "    </tr>\n",
              "  </tbody>\n",
              "</table>\n",
              "</div>"
            ],
            "text/plain": [
              "   label                                              tweet\n",
              "0      1  @user homegrown rightie white americans are 10...\n",
              "1      1  @user @user  is this a new one? either way, #m...\n",
              "2      0  i am thankful for pillows. #thankful #positive...\n",
              "3      0  it's unfounate today that aids is under contro...\n",
              "4      0      i am super. #i_am #positive #affirmation     "
            ]
          },
          "execution_count": 2,
          "metadata": {},
          "output_type": "execute_result"
        }
      ],
      "source": [
        "# Importer les données\n",
        "df = pd.read_csv('tweet_data.csv')\n",
        "# Afficher les données\n",
        "df.head()"
      ]
    },
    {
      "cell_type": "markdown",
      "metadata": {
        "id": "0AqkjpUZQw5m"
      },
      "source": [
        "- 1 : Negative\n",
        "- 0 : Positive"
      ]
    },
    {
      "cell_type": "code",
      "execution_count": 3,
      "metadata": {
        "colab": {
          "base_uri": "https://localhost:8080/"
        },
        "id": "v5DYAQbZQw5n",
        "outputId": "0c84235f-24ef-402a-a67d-4b57153dc4be"
      },
      "outputs": [
        {
          "data": {
            "text/plain": [
              "(4484, 2)"
            ]
          },
          "execution_count": 3,
          "metadata": {},
          "output_type": "execute_result"
        }
      ],
      "source": [
        "# Dimension des données\n",
        "df.shape"
      ]
    },
    {
      "cell_type": "markdown",
      "metadata": {
        "id": "XhtOBqkqQw5o"
      },
      "source": [
        "### <font color='#00d2d3'> Pré-traitement des données"
      ]
    },
    {
      "cell_type": "code",
      "execution_count": 4,
      "metadata": {
        "colab": {
          "base_uri": "https://localhost:8080/"
        },
        "id": "jtFrSBXPQw5p",
        "outputId": "cde8c34d-1a78-46d3-c9e4-10a16849c092"
      },
      "outputs": [
        {
          "data": {
            "text/plain": [
              "label\n",
              "1    2242\n",
              "0    2242\n",
              "Name: count, dtype: int64"
            ]
          },
          "execution_count": 4,
          "metadata": {},
          "output_type": "execute_result"
        }
      ],
      "source": [
        "# Nombre d'observations dans chaque classe\n",
        "df.label.value_counts()"
      ]
    },
    {
      "cell_type": "code",
      "execution_count": 5,
      "metadata": {
        "colab": {
          "base_uri": "https://localhost:8080/",
          "height": 430
        },
        "id": "Or_O3O2LQw5q",
        "outputId": "8fec87f5-2a3e-4d86-8f0c-9674f813b235"
      },
      "outputs": [
        {
          "data": {
            "image/png": "[encoded data removed]",
            "text/plain": [
              "<Figure size 640x480 with 1 Axes>"
            ]
          },
          "metadata": {},
          "output_type": "display_data"
        }
      ],
      "source": [
        "# Bar plot des nombres d'observations dans chaque classe\n",
        "plt.bar(df.label.value_counts().index, df.label.value_counts().values)\n",
        "plt.xticks(df.label.value_counts().index)\n",
        "plt.show()"
      ]
    },
    {
      "cell_type": "markdown",
      "metadata": {
        "id": "_41c8uL5Qw5r"
      },
      "source": [
        "#### <font color='#00d2d3'> Pré-traitement des données textuelles"
      ]
    },
    {
      "cell_type": "code",
      "execution_count": 6,
      "metadata": {
        "colab": {
          "base_uri": "https://localhost:8080/",
          "height": 52
        },
        "id": "dwMVggXAQw5u",
        "outputId": "0955dce5-c781-410a-8dda-72bfe8ec752c"
      },
      "outputs": [
        {
          "data": {
            "text/plain": [
              "'@user homegrown rightie white americans are 100 times more likely to harm you than a refugee.  #fear'"
            ]
          },
          "execution_count": 6,
          "metadata": {},
          "output_type": "execute_result"
        }
      ],
      "source": [
        "# Afficher la première ligne de la colonne text\n",
        "df['tweet'][0]"
      ]
    },
    {
      "cell_type": "code",
      "execution_count": 7,
      "metadata": {
        "colab": {
          "base_uri": "https://localhost:8080/",
          "height": 52
        },
        "id": "LC5qNlC3vA7M",
        "outputId": "87db3475-8e49-43aa-aade-748ca6933598"
      },
      "outputs": [
        {
          "data": {
            "text/plain": [
              "'@user @user  is this a new one? either way, #men disgraced themselves.  #harassment  #verbalassault'"
            ]
          },
          "execution_count": 7,
          "metadata": {},
          "output_type": "execute_result"
        }
      ],
      "source": [
        "# Afficher la deuxième ligne de la colonne text\n",
        "df['tweet'][1]"
      ]
    },
    {
      "cell_type": "markdown",
      "metadata": {
        "id": "8TbCKi_C2DVr"
      },
      "source": [
        "###### <font color='#1dd1a1'> Commencer le nettoyage des tweets\n"
      ]
    },
    {
      "cell_type": "code",
      "execution_count": 8,
      "metadata": {
        "id": "CJDmurEzQw5y"
      },
      "outputs": [],
      "source": [
        "# Fonction supprimant les links\n",
        "def remove_links(tweet):\n",
        "    tweet = re.sub(r'http[s]*:?//\\S+','', tweet)\n",
        "    return tweet"
      ]
    },
    {
      "cell_type": "code",
      "execution_count": 9,
      "metadata": {
        "colab": {
          "base_uri": "https://localhost:8080/",
          "height": 35
        },
        "id": "nDMxGUZYQw5y",
        "outputId": "1954633b-d4ab-4bc5-a849-de5937142c03"
      },
      "outputs": [
        {
          "data": {
            "text/plain": [
              "'The urls of my webpages is  '"
            ]
          },
          "execution_count": 9,
          "metadata": {},
          "output_type": "execute_result"
        }
      ],
      "source": [
        "# Exemple\n",
        "tweet ='The urls of my webpages is http://abdoulwahab.com https://abdoul.com'\n",
        "tweet = remove_links(tweet)\n",
        "tweet"
      ]
    },
    {
      "cell_type": "code",
      "execution_count": 10,
      "metadata": {
        "id": "Vm1912YqQw5y"
      },
      "outputs": [],
      "source": [
        "# Fonction supprimant les @username\n",
        "def remove_users(tweet):\n",
        "   tweet = re.sub(r'@[\\w\\-\\.]+', '', tweet)\n",
        "   return tweet"
      ]
    },
    {
      "cell_type": "code",
      "execution_count": 11,
      "metadata": {
        "colab": {
          "base_uri": "https://localhost:8080/",
          "height": 35
        },
        "id": "FgZ2xF2DQw5z",
        "outputId": "6cf2a465-d46f-4dce-da16-7ebe2acc68fd"
      },
      "outputs": [
        {
          "data": {
            "text/plain": [
              "'My username is '"
            ]
          },
          "execution_count": 11,
          "metadata": {},
          "output_type": "execute_result"
        }
      ],
      "source": [
        "# Exemple\n",
        "tweet ='My username is @abdwahdia'\n",
        "tweet = remove_users(tweet)\n",
        "tweet"
      ]
    },
    {
      "cell_type": "code",
      "execution_count": 12,
      "metadata": {
        "id": "06fJkgu2Qw5z"
      },
      "outputs": [],
      "source": [
        "# Supprimer les adresses emails\n",
        "def email_address(text):\n",
        "  tweet = re.sub(r'[\\w\\-\\.]+@[\\w\\-\\.]+', '', text)\n",
        "  return tweet"
      ]
    },
    {
      "cell_type": "code",
      "execution_count": 13,
      "metadata": {
        "colab": {
          "base_uri": "https://localhost:8080/",
          "height": 35
        },
        "id": "MoGcuo8tQw50",
        "outputId": "38372342-09a2-4400-b965-95dc4a84c41b"
      },
      "outputs": [
        {
          "data": {
            "text/plain": [
              "'My email adress is the following : '"
            ]
          },
          "execution_count": 13,
          "metadata": {},
          "output_type": "execute_result"
        }
      ],
      "source": [
        "# Exemple\n",
        "tweet ='My email adress is the following : abdoulwahabdiall@gmail.com'\n",
        "tweet = email_address(tweet)\n",
        "tweet"
      ]
    },
    {
      "cell_type": "code",
      "execution_count": 14,
      "metadata": {
        "colab": {
          "base_uri": "https://localhost:8080/"
        },
        "id": "yhDsZZaaRVnv",
        "outputId": "925b4b47-4cd4-41a8-fea4-8f8da75e824e"
      },
      "outputs": [
        {
          "name": "stdout",
          "output_type": "stream",
          "text": [
            "Requirement already satisfied: contractions in c:\\users\\morcodou.seck\\appdata\\local\\programs\\python\\python311\\lib\\site-packages (0.1.73)\n",
            "Requirement already satisfied: textsearch>=0.0.21 in c:\\users\\morcodou.seck\\appdata\\local\\programs\\python\\python311\\lib\\site-packages (from contractions) (0.0.24)\n",
            "Requirement already satisfied: anyascii in c:\\users\\morcodou.seck\\appdata\\local\\programs\\python\\python311\\lib\\site-packages (from textsearch>=0.0.21->contractions) (0.3.2)\n",
            "Requirement already satisfied: pyahocorasick in c:\\users\\morcodou.seck\\appdata\\local\\programs\\python\\python311\\lib\\site-packages (from textsearch>=0.0.21->contractions) (2.0.0)\n"
          ]
        },
        {
          "name": "stderr",
          "output_type": "stream",
          "text": [
            "\n",
            "[notice] A new release of pip available: 22.3.1 -> 23.3.1\n",
            "[notice] To update, run: python.exe -m pip install --upgrade pip\n"
          ]
        }
      ],
      "source": [
        "!pip install contractions"
      ]
    },
    {
      "cell_type": "code",
      "execution_count": 15,
      "metadata": {
        "id": "dr4lFuBHQw50"
      },
      "outputs": [],
      "source": [
        "import contractions\n",
        "# Fonction étendant les contractions\n",
        "def contraction(tweet):\n",
        "    expanded_all = []\n",
        "    for word in tweet.split():\n",
        "        expanded_all.append(contractions.fix(word)) # utiliser la fonction fix de contractions\n",
        "\n",
        "    expand = ' '.join(expanded_all)\n",
        "    return expand"
      ]
    },
    {
      "cell_type": "code",
      "execution_count": 16,
      "metadata": {
        "colab": {
          "base_uri": "https://localhost:8080/",
          "height": 35
        },
        "id": "OzH0ZD9bQw51",
        "outputId": "755ce149-3f0b-48f0-986d-75d7f94bd352"
      },
      "outputs": [
        {
          "data": {
            "text/plain": [
              "'That is the right thing to do'"
            ]
          },
          "execution_count": 16,
          "metadata": {},
          "output_type": "execute_result"
        }
      ],
      "source": [
        "# Exemple\n",
        "tweet =\"That's the right thing to do\"\n",
        "tweet = contraction(tweet)\n",
        "tweet"
      ]
    },
    {
      "cell_type": "code",
      "execution_count": 17,
      "metadata": {
        "id": "p8oVUvyDQw51"
      },
      "outputs": [],
      "source": [
        "# Supprimer html caractères\n",
        "def clean_html(text):\n",
        "  tweet = re.sub(r'&\\w+','', text)\n",
        "  return tweet"
      ]
    },
    {
      "cell_type": "code",
      "execution_count": 18,
      "metadata": {
        "colab": {
          "base_uri": "https://localhost:8080/",
          "height": 35
        },
        "id": "bAAxUUmEQw51",
        "outputId": "bcdb0d03-9895-440e-c488-208257ab9aa7"
      },
      "outputs": [
        {
          "data": {
            "text/plain": [
              "'#world What a shame '"
            ]
          },
          "execution_count": 18,
          "metadata": {},
          "output_type": "execute_result"
        }
      ],
      "source": [
        "# Exemple\n",
        "tweet ='#world What a shame &amp'\n",
        "tweet = clean_html(tweet)\n",
        "tweet"
      ]
    },
    {
      "cell_type": "code",
      "execution_count": 19,
      "metadata": {
        "id": "nLNuYb7KQw52"
      },
      "outputs": [],
      "source": [
        "# Remplacer tout ce qui n'est pas chaines de caractères alphabétiques et espace par ' '\n",
        "def alpha_b(text):\n",
        "  tweet = re.sub(r'[^a-zA-Z\\s]+', ' ', text)\n",
        "  return tweet"
      ]
    },
    {
      "cell_type": "code",
      "execution_count": 20,
      "metadata": {
        "colab": {
          "base_uri": "https://localhost:8080/",
          "height": 35
        },
        "id": "8Eb-oR4dQw52",
        "outputId": "04b002c0-59af-48e6-af2b-8afc0d773606"
      },
      "outputs": [
        {
          "data": {
            "text/plain": [
              "'My year of birth is    happy'"
            ]
          },
          "execution_count": 20,
          "metadata": {},
          "output_type": "execute_result"
        }
      ],
      "source": [
        "# Exemple\n",
        "tweet = 'My year of birth is 2050 #happy'\n",
        "tweet = alpha_b(tweet)\n",
        "tweet"
      ]
    },
    {
      "cell_type": "code",
      "execution_count": 21,
      "metadata": {
        "id": "Jqv5Z7AHQw53"
      },
      "outputs": [],
      "source": [
        "# Fonction remplaçant les espaces multiples et convertissant majuscules en minuscules\n",
        "def lower(text):\n",
        "  tweet = re.sub(r'\\s{2,}', ' ', text)\n",
        "  return tweet.lower()"
      ]
    },
    {
      "cell_type": "code",
      "execution_count": 22,
      "metadata": {
        "id": "zK7xShT2Qw53"
      },
      "outputs": [],
      "source": [
        "# Supprimer les espaces en début et fin de tweet\n",
        "def clean_space(text):\n",
        "  tweet = re.sub(r'^\\s|\\s$', '', text)\n",
        "  return tweet"
      ]
    },
    {
      "cell_type": "code",
      "execution_count": 23,
      "metadata": {
        "colab": {
          "base_uri": "https://localhost:8080/",
          "height": 35
        },
        "id": "ukpzgEUJeQut",
        "outputId": "033066f0-a8bf-487e-f097-cefedcd02662"
      },
      "outputs": [
        {
          "data": {
            "text/plain": [
              "'Life is a mess for some people'"
            ]
          },
          "execution_count": 23,
          "metadata": {},
          "output_type": "execute_result"
        }
      ],
      "source": [
        "# Exemple\n",
        "tweet = ' Life is a mess for some people '\n",
        "tweet = clean_space(tweet)\n",
        "tweet"
      ]
    },
    {
      "cell_type": "code",
      "execution_count": 24,
      "metadata": {
        "id": "TrTkDXL6Qw54"
      },
      "outputs": [],
      "source": [
        "# Fonction supprimant les stopwords\n",
        "def remove_stopwords(text):\n",
        "    Stopwords = stopwords.words('english')\n",
        "    tweet= ' '.join([word for word in text.split() if word not in Stopwords])\n",
        "    return tweet"
      ]
    },
    {
      "cell_type": "code",
      "execution_count": 25,
      "metadata": {
        "colab": {
          "base_uri": "https://localhost:8080/",
          "height": 35
        },
        "id": "vCRK-eLkQw54",
        "outputId": "df6607e4-adb9-41b1-d6af-1b7e9d85286b"
      },
      "outputs": [
        {
          "data": {
            "text/plain": [
              "'Life mess people'"
            ]
          },
          "execution_count": 25,
          "metadata": {},
          "output_type": "execute_result"
        }
      ],
      "source": [
        "# Exemple\n",
        "tweet = 'Life is a mess for some people'\n",
        "tweet = remove_stopwords(tweet)\n",
        "tweet"
      ]
    },
    {
      "cell_type": "code",
      "execution_count": 26,
      "metadata": {
        "id": "q6nwwvbsQw55"
      },
      "outputs": [],
      "source": [
        "# Lemmatization\n",
        "from nltk.stem import WordNetLemmatizer\n",
        "lemma=WordNetLemmatizer()\n",
        "def lem_sw(text):\n",
        "    tweet = [lemma.lemmatize(word) for word in text.split()]\n",
        "    tweet = \" \".join(tweet)\n",
        "    return tweet"
      ]
    },
    {
      "cell_type": "markdown",
      "metadata": {
        "id": "q1GFBn2peCbz"
      },
      "source": [
        "###### <font color='#1dd1a1'> Appliquer les différentes fonctions sur les tweets\n",
        "\n"
      ]
    },
    {
      "cell_type": "code",
      "execution_count": 27,
      "metadata": {
        "id": "2T1IFv1zkKlx"
      },
      "outputs": [],
      "source": [
        "# Appliquer la fonction remove_users\n",
        "df['new_tweet'] = df.tweet.apply(func = remove_users)\n",
        " # Appliquer la fonction remove_links\n",
        "df['new_tweet'] = df.new_tweet.apply(func = remove_links)\n",
        "# Appliquer la fonction email_address\n",
        "df['new_tweet'] = df.new_tweet.apply(func = email_address)\n",
        "# Appliquer la fonction remove_contraction\n",
        "df['new_tweet'] = df.new_tweet.apply(func = contraction)\n",
        "# Appliquer la fonction clean_html\n",
        "df['new_tweet'] = df.new_tweet.apply(func = clean_html)\n",
        "# Appliquer la fonction alpha_b\n",
        "df['new_tweet'] = df.new_tweet.apply(func = alpha_b)\n",
        "# Appliquer la fonction lower\n",
        "df['new_tweet'] = df.new_tweet.apply(func = lower)\n",
        "# Appliquer la fonction clean_space\n",
        "df['new_tweet'] = df.new_tweet.apply(func =clean_space)\n",
        "# Appliquer la fonction remove_stopwords\n",
        "df['new_tweet'] = df.new_tweet.apply(func = remove_stopwords)\n",
        "# Appliquer la fonction lem_sw\n",
        "df['new_tweet'] = df.new_tweet.apply(func = lem_sw)"
      ]
    },
    {
      "cell_type": "code",
      "execution_count": 28,
      "metadata": {
        "colab": {
          "base_uri": "https://localhost:8080/",
          "height": 241
        },
        "id": "yCAzSftbpa8u",
        "outputId": "83bebd45-edd9-4f5b-93cd-adb19671d8ef"
      },
      "outputs": [
        {
          "data": {
            "text/html": [
              "<div>\n",
              "<style scoped>\n",
              "    .dataframe tbody tr th:only-of-type {\n",
              "        vertical-align: middle;\n",
              "    }\n",
              "\n",
              "    .dataframe tbody tr th {\n",
              "        vertical-align: top;\n",
              "    }\n",
              "\n",
              "    .dataframe thead th {\n",
              "        text-align: right;\n",
              "    }\n",
              "</style>\n",
              "<table border=\"1\" class=\"dataframe\">\n",
              "  <thead>\n",
              "    <tr style=\"text-align: right;\">\n",
              "      <th></th>\n",
              "      <th>label</th>\n",
              "      <th>tweet</th>\n",
              "      <th>new_tweet</th>\n",
              "    </tr>\n",
              "  </thead>\n",
              "  <tbody>\n",
              "    <tr>\n",
              "      <th>0</th>\n",
              "      <td>1</td>\n",
              "      <td>@user homegrown rightie white americans are 10...</td>\n",
              "      <td>homegrown rightie white american time likely h...</td>\n",
              "    </tr>\n",
              "    <tr>\n",
              "      <th>1</th>\n",
              "      <td>1</td>\n",
              "      <td>@user @user  is this a new one? either way, #m...</td>\n",
              "      <td>new one either way men disgraced harassment ve...</td>\n",
              "    </tr>\n",
              "    <tr>\n",
              "      <th>2</th>\n",
              "      <td>0</td>\n",
              "      <td>i am thankful for pillows. #thankful #positive...</td>\n",
              "      <td>thankful pillow thankful positive</td>\n",
              "    </tr>\n",
              "    <tr>\n",
              "      <th>3</th>\n",
              "      <td>0</td>\n",
              "      <td>it's unfounate today that aids is under contro...</td>\n",
              "      <td>unfounate today aid control hate kill gay year...</td>\n",
              "    </tr>\n",
              "    <tr>\n",
              "      <th>4</th>\n",
              "      <td>0</td>\n",
              "      <td>i am super. #i_am #positive #affirmation</td>\n",
              "      <td>super positive affirmation</td>\n",
              "    </tr>\n",
              "  </tbody>\n",
              "</table>\n",
              "</div>"
            ],
            "text/plain": [
              "   label                                              tweet  \\\n",
              "0      1  @user homegrown rightie white americans are 10...   \n",
              "1      1  @user @user  is this a new one? either way, #m...   \n",
              "2      0  i am thankful for pillows. #thankful #positive...   \n",
              "3      0  it's unfounate today that aids is under contro...   \n",
              "4      0      i am super. #i_am #positive #affirmation        \n",
              "\n",
              "                                           new_tweet  \n",
              "0  homegrown rightie white american time likely h...  \n",
              "1  new one either way men disgraced harassment ve...  \n",
              "2                  thankful pillow thankful positive  \n",
              "3  unfounate today aid control hate kill gay year...  \n",
              "4                         super positive affirmation  "
            ]
          },
          "execution_count": 28,
          "metadata": {},
          "output_type": "execute_result"
        }
      ],
      "source": [
        "# Afficher df\n",
        "df.head()"
      ]
    },
    {
      "cell_type": "code",
      "execution_count": 29,
      "metadata": {
        "colab": {
          "base_uri": "https://localhost:8080/",
          "height": 35
        },
        "id": "jpUFyoATx3Z2",
        "outputId": "f37164d6-8628-4925-c559-36c3feb17fbd"
      },
      "outputs": [
        {
          "data": {
            "text/plain": [
              "'homegrown rightie white american time likely harm refugee fear'"
            ]
          },
          "execution_count": 29,
          "metadata": {},
          "output_type": "execute_result"
        }
      ],
      "source": [
        "# Afficher la ligne d'index 0\n",
        "df['new_tweet'][0]"
      ]
    },
    {
      "cell_type": "code",
      "execution_count": 30,
      "metadata": {
        "colab": {
          "base_uri": "https://localhost:8080/",
          "height": 35
        },
        "id": "RvKIgLcFyceO",
        "outputId": "3d959beb-497b-4478-f629-54a07466d4be"
      },
      "outputs": [
        {
          "data": {
            "text/plain": [
              "'new one either way men disgraced harassment verbalassault'"
            ]
          },
          "execution_count": 30,
          "metadata": {},
          "output_type": "execute_result"
        }
      ],
      "source": [
        "# Afficher la ligne d'index 1\n",
        "df['new_tweet'][1]"
      ]
    },
    {
      "cell_type": "markdown",
      "metadata": {
        "id": "ugtv8w6SQw6F"
      },
      "source": [
        "### <font color='#00d2d3'> Vectorisation"
      ]
    },
    {
      "cell_type": "code",
      "execution_count": 31,
      "metadata": {
        "id": "ihjG2i2QQw6F"
      },
      "outputs": [],
      "source": [
        "# Importer les packages\n",
        "from keras.preprocessing.text import Tokenizer\n",
        "from keras.preprocessing.sequence import pad_sequences"
      ]
    },
    {
      "cell_type": "code",
      "execution_count": 32,
      "metadata": {
        "id": "18NzfK9EQw6G"
      },
      "outputs": [],
      "source": [
        "# Nombre de mots\n",
        "voc_size = len(set(\" \".join(df.new_tweet).split()))\n",
        "\n",
        "# Initialiser le modèle Tokenizer\n",
        "tokenizer = Tokenizer(num_words=voc_size, split=' ')\n",
        "\n",
        "# Entrainer les données\n",
        "tokenizer.fit_on_texts(df['new_tweet'].values)\n",
        "\n",
        "# Vectoriser\n",
        "X = tokenizer.texts_to_sequences(df['new_tweet'].values)\n",
        "\n",
        "# Padding\n",
        "X = pad_sequences(X)"
      ]
    },
    {
      "cell_type": "code",
      "execution_count": null,
      "metadata": {},
      "outputs": [],
      "source": [
        "\n",
        "# Sauvegarder le tokenizer en JSON\n",
        "tokenizer_json = tokenizer.to_json()\n",
        "with open('tokenizer1.json', 'w', encoding='utf-8') as json_file:\n",
        "    json_file.write(tokenizer_json)\n"
      ]
    },
    {
      "cell_type": "code",
      "execution_count": 33,
      "metadata": {
        "colab": {
          "base_uri": "https://localhost:8080/"
        },
        "id": "-giq6jKzEmUN",
        "outputId": "ccf588d3-d05a-4eb6-f997-06165825074b"
      },
      "outputs": [
        {
          "data": {
            "text/plain": [
              "array([[   0,    0,    0,    0,    0,    0,    0,    0,    0,    0,    0,\n",
              "           0, 3792, 3793,    6,   99,   14, 1380, 1783,  998,  296],\n",
              "       [   0,    0,    0,    0,    0,    0,    0,    0,    0,    0,    0,\n",
              "           0,    0,    9,   16,  999,   47,   85, 1784, 1000, 2401],\n",
              "       [   0,    0,    0,    0,    0,    0,    0,    0,    0,    0,    0,\n",
              "           0,    0,    0,    0,    0,    0,   33, 2402,   33,   39],\n",
              "       [   0,    0,    0,    0,    0,    0,    0,    0,    0,    0,    0,\n",
              "           0, 3794,   17, 2403,  536,   26,  257,  308, 3795,  111],\n",
              "       [   0,    0,    0,    0,    0,    0,    0,    0,    0,    0,    0,\n",
              "           0,    0,    0,    0,    0,    0,    0,  415,   39,  132]])"
            ]
          },
          "execution_count": 33,
          "metadata": {},
          "output_type": "execute_result"
        }
      ],
      "source": [
        "# afficher X\n",
        "X[:5]"
      ]
    },
    {
      "cell_type": "markdown",
      "metadata": {
        "id": "c48OsYa-Qw6G"
      },
      "source": [
        "### <font color='#00d2d3'> Sentiment Analysis avec Bi-directional LSTM"
      ]
    },
    {
      "cell_type": "markdown",
      "metadata": {
        "id": "IVmvcd1ueAg5"
      },
      "source": [
        "![bilstm.jpeg](data:image/jpeg;base64,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)"
      ]
    },
    {
      "cell_type": "code",
      "execution_count": 34,
      "metadata": {
        "id": "wjzBVAQg8zjD"
      },
      "outputs": [],
      "source": [
        "from keras.models import Sequential\n",
        "from keras.layers import Dense, Embedding, LSTM, Bidirectional, Dropout"
      ]
    },
    {
      "cell_type": "code",
      "execution_count": 35,
      "metadata": {
        "colab": {
          "base_uri": "https://localhost:8080/"
        },
        "id": "9IkvYDfIQw6G",
        "outputId": "b9cf9727-27e9-4051-972d-76305eb76f88"
      },
      "outputs": [
        {
          "name": "stdout",
          "output_type": "stream",
          "text": [
            "Model: \"sequential\"\n",
            "_________________________________________________________________\n",
            " Layer (type)                Output Shape              Param #   \n",
            "=================================================================\n",
            " embedding (Embedding)       (None, 21, 100)           959100    \n",
            "                                                                 \n",
            " bidirectional (Bidirection  (None, 21, 400)           481600    \n",
            " al)                                                             \n",
            "                                                                 \n",
            " dropout (Dropout)           (None, 21, 400)           0         \n",
            "                                                                 \n",
            " bidirectional_1 (Bidirecti  (None, 400)               961600    \n",
            " onal)                                                           \n",
            "                                                                 \n",
            " dropout_1 (Dropout)         (None, 400)               0         \n",
            "                                                                 \n",
            " dense (Dense)               (None, 1)                 401       \n",
            "                                                                 \n",
            "=================================================================\n",
            "Total params: 2402701 (9.17 MB)\n",
            "Trainable params: 2402701 (9.17 MB)\n",
            "Non-trainable params: 0 (0.00 Byte)\n",
            "_________________________________________________________________\n",
            "None\n"
          ]
        }
      ],
      "source": [
        "# Dimension des vecteurs\n",
        "emb_dim=100\n",
        "model=Sequential()\n",
        "model.add(Embedding(voc_size, emb_dim, input_length=X.shape[1]))\n",
        "model.add(Bidirectional(LSTM(200, return_sequences=True)))\n",
        "model.add(Dropout(0.4))\n",
        "model.add(Bidirectional(LSTM(200)))\n",
        "model.add(Dropout(0.4))\n",
        "model.add(Dense(1,activation='sigmoid'))\n",
        "# Compiler le modèle\n",
        "model.compile(loss='binary_crossentropy',optimizer='adam',metrics=['accuracy'])\n",
        "# Afficher le summary\n",
        "print(model.summary())"
      ]
    },
    {
      "cell_type": "markdown",
      "metadata": {
        "id": "1mLoCqOjQHxX"
      },
      "source": [
        "### <font color='#00d2d3'> Sentiment Analysis avec LSTM"
      ]
    },
    {
      "cell_type": "code",
      "execution_count": 36,
      "metadata": {
        "id": "LrCCd1L4QPYJ"
      },
      "outputs": [
        {
          "name": "stdout",
          "output_type": "stream",
          "text": [
            "Model: \"sequential_1\"\n",
            "_________________________________________________________________\n",
            " Layer (type)                Output Shape              Param #   \n",
            "=================================================================\n",
            " embedding_1 (Embedding)     (None, 21, 100)           959100    \n",
            "                                                                 \n",
            " lstm_2 (LSTM)               (None, 21, 200)           240800    \n",
            "                                                                 \n",
            " dropout_2 (Dropout)         (None, 21, 200)           0         \n",
            "                                                                 \n",
            " lstm_3 (LSTM)               (None, 200)               320800    \n",
            "                                                                 \n",
            " dropout_3 (Dropout)         (None, 200)               0         \n",
            "                                                                 \n",
            " dense_1 (Dense)             (None, 1)                 201       \n",
            "                                                                 \n",
            "=================================================================\n",
            "Total params: 1520901 (5.80 MB)\n",
            "Trainable params: 1520901 (5.80 MB)\n",
            "Non-trainable params: 0 (0.00 Byte)\n",
            "_________________________________________________________________\n",
            "None\n"
          ]
        }
      ],
      "source": [
        "# # Dimension des vecteurs\n",
        "emb_dim=100\n",
        "model=Sequential()\n",
        "model.add(Embedding(voc_size, emb_dim, input_length=X.shape[1]))\n",
        "model.add(LSTM(200, return_sequences=True))\n",
        "model.add(Dropout(0.4))\n",
        "model.add(LSTM(200))\n",
        "model.add(Dropout(0.4))\n",
        "model.add(Dense(1,activation='sigmoid'))\n",
        "# Compiler le modèle\n",
        "model.compile(loss='binary_crossentropy',optimizer='adam',metrics=['accuracy'])\n",
        "# Afficher le summary\n",
        "print(model.summary())"
      ]
    },
    {
      "cell_type": "code",
      "execution_count": 37,
      "metadata": {
        "id": "eimNcPW-Qw6H"
      },
      "outputs": [],
      "source": [
        "# Importer train_test_split\n",
        "from sklearn.model_selection import train_test_split\n",
        "# Labels\n",
        "y = df.label.values\n",
        "\n",
        "# Splitter en train et test\n",
        "x_train, x_test, y_train, y_test = train_test_split(X, y, test_size=0.2, random_state=42)\n",
        "\n",
        "# Splitter validation et test\n",
        "x_val, x_test, y_val, y_test = train_test_split(x_test, y_test, test_size=0.5, random_state=42)"
      ]
    },
    {
      "cell_type": "code",
      "execution_count": 38,
      "metadata": {
        "id": "EirnM9bDQw6H"
      },
      "outputs": [
        {
          "name": "stdout",
          "output_type": "stream",
          "text": [
            "Epoch 1/5\n",
            "57/57 [==============================] - 14s 154ms/step - loss: 0.5883 - accuracy: 0.6454 - val_loss: 0.3411 - val_accuracy: 0.8348\n",
            "Epoch 2/5\n",
            "57/57 [==============================] - 9s 154ms/step - loss: 0.1892 - accuracy: 0.9247 - val_loss: 0.2968 - val_accuracy: 0.8705\n",
            "Epoch 3/5\n",
            "57/57 [==============================] - 10s 170ms/step - loss: 0.0683 - accuracy: 0.9785 - val_loss: 0.3899 - val_accuracy: 0.8795\n",
            "Epoch 4/5\n",
            "57/57 [==============================] - 12s 207ms/step - loss: 0.0283 - accuracy: 0.9880 - val_loss: 0.5138 - val_accuracy: 0.8616\n",
            "Epoch 5/5\n",
            "57/57 [==============================] - 15s 266ms/step - loss: 0.0138 - accuracy: 0.9947 - val_loss: 0.5989 - val_accuracy: 0.8817\n"
          ]
        },
        {
          "data": {
            "text/plain": [
              "<keras.src.callbacks.History at 0x2323c310250>"
            ]
          },
          "execution_count": 38,
          "metadata": {},
          "output_type": "execute_result"
        }
      ],
      "source": [
        "# Entrainer le modèle\n",
        "model.fit(x_train, y_train, validation_data=(x_val, y_val), epochs=5, batch_size=64)"
      ]
    },
    {
      "cell_type": "code",
      "execution_count": 39,
      "metadata": {
        "id": "nK8Vv5fRQw6H"
      },
      "outputs": [
        {
          "name": "stdout",
          "output_type": "stream",
          "text": [
            "14/14 [==============================] - 2s 39ms/step\n",
            "Accuracy score 0.8816964285714286\n"
          ]
        }
      ],
      "source": [
        "# Importer accuracy_score\n",
        "from sklearn.metrics import accuracy_score\n",
        "\n",
        "# Prédire les labels de x_val\n",
        "y_pred = model.predict(x_val)\n",
        "\n",
        "# Arrondir les valeurs\n",
        "y_pred = np.round(y_pred)\n",
        "\n",
        "# Afficher l'accuracy\n",
        "print('Accuracy score', accuracy_score(y_pred, y_val))"
      ]
    },
    {
      "cell_type": "markdown",
      "metadata": {
        "id": "arowvwnvHjj6"
      },
      "source": [
        "###### <font color='#1dd1a1'> Test le modèle"
      ]
    },
    {
      "cell_type": "code",
      "execution_count": 40,
      "metadata": {
        "id": "QR1pasjcQw6I"
      },
      "outputs": [
        {
          "data": {
            "text/plain": [
              "array([[   0,    0,    0,    0,    0,    0,    0,    0,    0,    0,    0,\n",
              "           0,    0,    0,    0,    0,    0,    0, 1852,   57,    4],\n",
              "       [   0,    0,    0,    0,    0,    0,    0,    0,    0,    0,    0,\n",
              "           0,    0,    0,    0,    0,    4,   19,  290,   64, 2229]])"
            ]
          },
          "execution_count": 40,
          "metadata": {},
          "output_type": "execute_result"
        }
      ],
      "source": [
        "#x_test tweet non vectorisées\n",
        "# tweet= tokenizer.sequences_to_texts(x_test[4:6])\n",
        "tweet= ['You are a negative personne, I never like you', 'I like eatting good food when i really hungry']\n",
        "\n",
        "#x_test tweet vectorisées\n",
        "# twt=x_test[4:6]\n",
        "twt=pad_sequences(tokenizer.texts_to_sequences(tweet), X.shape[1])\n",
        "twt"
      ]
    },
    {
      "cell_type": "code",
      "execution_count": 41,
      "metadata": {
        "id": "UkqwJPlMCYWc"
      },
      "outputs": [
        {
          "name": "stdout",
          "output_type": "stream",
          "text": [
            "1/1 [==============================] - 1s 868ms/step\n"
          ]
        }
      ],
      "source": [
        "# Prédictions les labels\n",
        "y_pred= model.predict(twt)\n",
        "# Arrondir les valeus\n",
        "y_pred = np.round(y_pred)"
      ]
    },
    {
      "cell_type": "code",
      "execution_count": 42,
      "metadata": {
        "id": "sa9Akx-BQw6I"
      },
      "outputs": [
        {
          "name": "stdout",
          "output_type": "stream",
          "text": [
            "You are a negative personne, I never like you ---- ['Positive sentiment']\n",
            "\n",
            "I like eatting good food when i really hungry ---- ['Positive sentiment']\n",
            "\n"
          ]
        }
      ],
      "source": [
        "# Afficher sentiments\n",
        "for i in range(0,2):\n",
        "  print(tweet[i],\"----\",[\"Negative sentiment\" if int(y_pred[i])== 1 else \"Positive sentiment\"])\n",
        "  print()"
      ]
    },
    {
      "cell_type": "markdown",
      "metadata": {
        "id": "nFy66NCMQw6J"
      },
      "source": [
        "### <font color='#00d2d3'> Sentiment Analysis avec Transformers modèle"
      ]
    },
    {
      "cell_type": "code",
      "execution_count": 43,
      "metadata": {
        "id": "3j2Gvzf4Qw6J"
      },
      "outputs": [
        {
          "name": "stdout",
          "output_type": "stream",
          "text": [
            "Requirement already satisfied: transformers in c:\\users\\morcodou.seck\\appdata\\local\\programs\\python\\python311\\lib\\site-packages (4.35.1)\n",
            "Requirement already satisfied: filelock in c:\\users\\morcodou.seck\\appdata\\local\\programs\\python\\python311\\lib\\site-packages (from transformers) (3.12.0)\n",
            "Requirement already satisfied: huggingface-hub<1.0,>=0.16.4 in c:\\users\\morcodou.seck\\appdata\\local\\programs\\python\\python311\\lib\\site-packages (from transformers) (0.17.3)\n",
            "Requirement already satisfied: numpy>=1.17 in c:\\users\\morcodou.seck\\appdata\\local\\programs\\python\\python311\\lib\\site-packages (from transformers) (1.24.2)\n",
            "Requirement already satisfied: packaging>=20.0 in c:\\users\\morcodou.seck\\appdata\\local\\programs\\python\\python311\\lib\\site-packages (from transformers) (23.0)\n",
            "Requirement already satisfied: pyyaml>=5.1 in c:\\users\\morcodou.seck\\appdata\\local\\programs\\python\\python311\\lib\\site-packages (from transformers) (6.0)\n",
            "Requirement already satisfied: regex!=2019.12.17 in c:\\users\\morcodou.seck\\appdata\\local\\programs\\python\\python311\\lib\\site-packages (from transformers) (2023.10.3)\n",
            "Requirement already satisfied: requests in c:\\users\\morcodou.seck\\appdata\\local\\programs\\python\\python311\\lib\\site-packages (from transformers) (2.28.2)\n",
            "Requirement already satisfied: tokenizers<0.15,>=0.14 in c:\\users\\morcodou.seck\\appdata\\local\\programs\\python\\python311\\lib\\site-packages (from transformers) (0.14.1)\n",
            "Requirement already satisfied: safetensors>=0.3.1 in c:\\users\\morcodou.seck\\appdata\\local\\programs\\python\\python311\\lib\\site-packages (from transformers) (0.4.0)\n",
            "Requirement already satisfied: tqdm>=4.27 in c:\\users\\morcodou.seck\\appdata\\local\\programs\\python\\python311\\lib\\site-packages (from transformers) (4.66.1)\n",
            "Requirement already satisfied: fsspec in c:\\users\\morcodou.seck\\appdata\\local\\programs\\python\\python311\\lib\\site-packages (from huggingface-hub<1.0,>=0.16.4->transformers) (2023.10.0)\n",
            "Requirement already satisfied: typing-extensions>=3.7.4.3 in c:\\users\\morcodou.seck\\appdata\\local\\programs\\python\\python311\\lib\\site-packages (from huggingface-hub<1.0,>=0.16.4->transformers) (4.8.0)\n",
            "Requirement already satisfied: colorama in c:\\users\\morcodou.seck\\appdata\\roaming\\python\\python311\\site-packages (from tqdm>=4.27->transformers) (0.4.6)\n",
            "Requirement already satisfied: charset-normalizer<4,>=2 in c:\\users\\morcodou.seck\\appdata\\local\\programs\\python\\python311\\lib\\site-packages (from requests->transformers) (3.1.0)\n",
            "Requirement already satisfied: idna<4,>=2.5 in c:\\users\\morcodou.seck\\appdata\\local\\programs\\python\\python311\\lib\\site-packages (from requests->transformers) (3.4)\n",
            "Requirement already satisfied: urllib3<1.27,>=1.21.1 in c:\\users\\morcodou.seck\\appdata\\local\\programs\\python\\python311\\lib\\site-packages (from requests->transformers) (1.26.15)\n",
            "Requirement already satisfied: certifi>=2017.4.17 in c:\\users\\morcodou.seck\\appdata\\local\\programs\\python\\python311\\lib\\site-packages (from requests->transformers) (2022.12.7)\n"
          ]
        },
        {
          "name": "stderr",
          "output_type": "stream",
          "text": [
            "\n",
            "[notice] A new release of pip available: 22.3.1 -> 23.3.1\n",
            "[notice] To update, run: python.exe -m pip install --upgrade pip\n"
          ]
        }
      ],
      "source": [
        "!pip install transformers"
      ]
    },
    {
      "cell_type": "code",
      "execution_count": 97,
      "metadata": {
        "id": "j0fJfSzKQw6J"
      },
      "outputs": [
        {
          "name": "stderr",
          "output_type": "stream",
          "text": [
            "c:\\Users\\morcodou.seck\\AppData\\Local\\Programs\\Python\\Python311\\Lib\\site-packages\\tqdm\\auto.py:21: TqdmWarning: IProgress not found. Please update jupyter and ipywidgets. See https://ipywidgets.readthedocs.io/en/stable/user_install.html\n",
            "  from .autonotebook import tqdm as notebook_tqdm\n"
          ]
        }
      ],
      "source": [
        "# Importer transformers\n",
        "import transformers"
      ]
    },
    {
      "cell_type": "code",
      "execution_count": 99,
      "metadata": {
        "id": "OsA2NRL7Qw6K"
      },
      "outputs": [
        {
          "name": "stderr",
          "output_type": "stream",
          "text": [
            "No model was supplied, defaulted to distilbert-base-uncased-finetuned-sst-2-english and revision af0f99b (https://huggingface.co/distilbert-base-uncased-finetuned-sst-2-english).\n",
            "Using a pipeline without specifying a model name and revision in production is not recommended.\n"
          ]
        },
        {
          "data": {
            "text/plain": [
              "[{'label': 'POSITIVE', 'score': 0.9956244826316833}]"
            ]
          },
          "execution_count": 99,
          "metadata": {},
          "output_type": "execute_result"
        }
      ],
      "source": [
        "# Import pipeline\n",
        "from transformers import pipeline\n",
        "\n",
        "# Initialiser le modèle\n",
        "sentiment_pipeline = pipeline(\"sentiment-analysis\")\n",
        "\n",
        "# Appliquer le modèle\n",
        "sentiment_pipeline('I know someone who love dogs')\n"
      ]
    },
    {
      "cell_type": "code",
      "execution_count": null,
      "metadata": {
        "id": "IkWi-uNpTDKe"
      },
      "outputs": [],
      "source": []
    }
  ],
  "metadata": {
    "accelerator": "GPU",
    "colab": {
      "provenance": []
    },
    "kernelspec": {
      "display_name": "Python 3",
      "name": "python3"
    },
    "language_info": {
      "codemirror_mode": {
        "name": "ipython",
        "version": 3
      },
      "file_extension": ".py",
      "mimetype": "text/x-python",
      "name": "python",
      "nbconvert_exporter": "python",
      "pygments_lexer": "ipython3",
      "version": "3.11.1"
    }
  },
  "nbformat": 4,
  "nbformat_minor": 0
}
